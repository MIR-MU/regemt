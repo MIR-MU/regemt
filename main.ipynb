{
 "cells": [
  {
   "cell_type": "code",
   "execution_count": 1,
   "outputs": [
    {
     "name": "stderr",
     "output_type": "stream",
     "text": [
      "/Users/xstefan3/miniconda3/envs/ood/lib/python3.8/site-packages/gensim/similarities/__init__.py:15: UserWarning: The gensim.similarities.levenshtein submodule is disabled, because the optional Levenshtein package <https://pypi.org/project/python-Levenshtein/> is unavailable. Install Levenhstein (e.g. `pip install python-Levenshtein`) to suppress this warning.\n",
      "  warnings.warn(msg)\n"
     ]
    }
   ],
   "source": [
    "from scipy.stats import spearmanr\n",
    "\n",
    "from bertscore import BERTScore\n",
    "from conventional_metrics import BLEU, METEOR\n",
    "from scm import SCM\n",
    "from wmd import WMD\n",
    "from common import Evaluator, LANGS\n",
    "import pandas as pd\n"
   ],
   "metadata": {
    "collapsed": false,
    "pycharm": {
     "name": "#%%\n"
    }
   }
  },
  {
   "cell_type": "code",
   "execution_count": 2,
   "outputs": [
    {
     "name": "stderr",
     "output_type": "stream",
     "text": [
      "[nltk_data] Downloading package wordnet to\n",
      "[nltk_data]     /Users/xstefan3/nltk_data...\n",
      "[nltk_data]   Package wordnet is already up-to-date!\n",
      "[nltk_data] Downloading package stopwords to\n",
      "[nltk_data]     /Users/xstefan3/nltk_data...\n",
      "[nltk_data]   Package stopwords is already up-to-date!\n",
      "[nltk_data] Downloading package stopwords to\n",
      "[nltk_data]     /Users/xstefan3/nltk_data...\n",
      "[nltk_data]   Package stopwords is already up-to-date!\n"
     ]
    },
    {
     "name": "stdout",
     "output_type": "stream",
     "text": [
      "Evaluating lang pair cs-en\n"
     ]
    },
    {
     "name": "stderr",
     "output_type": "stream",
     "text": [
      "100%|██████████| 2708/2708 [04:36<00:00,  9.79it/s]\n",
      "BERTScore: 100%|██████████| 560/560 [06:14<00:00,  1.49it/s]\n",
      "WMD: 100%|██████████| 560/560 [00:00<00:00, 591.52it/s]\n",
      "SCM: 100%|██████████| 560/560 [00:00<00:00, 3516.06it/s]\n",
      "  0%|          | 0/2687 [00:00<?, ?it/s]"
     ]
    },
    {
     "name": "stdout",
     "output_type": "stream",
     "text": [
      "{'BLEU': {'cs-en': 0.00948259297595841}, 'METEOR': {'cs-en': 0.40259685151100627}, 'BERTScore': {'cs-en': 0.5930617997403792}, 'WMD': {'cs-en': -0.35835693780579453}, 'SCM': {'cs-en': 0.24208020921663048}, 'human': {'cs-en': 1.0}}\n",
      "Evaluating lang pair de-en\n"
     ]
    },
    {
     "name": "stderr",
     "output_type": "stream",
     "text": [
      "100%|██████████| 2687/2687 [04:43<00:00,  9.49it/s]\n",
      "BERTScore: 100%|██████████| 560/560 [06:13<00:00,  1.50it/s]\n",
      "WMD: 100%|██████████| 560/560 [00:00<00:00, 580.38it/s]\n",
      "SCM: 100%|██████████| 560/560 [00:00<00:00, 3523.12it/s]\n",
      "  0%|          | 0/2536 [00:00<?, ?it/s]"
     ]
    },
    {
     "name": "stdout",
     "output_type": "stream",
     "text": [
      "{'BLEU': {'cs-en': 0.00948259297595841, 'de-en': 0.12102257413942359}, 'METEOR': {'cs-en': 0.40259685151100627, 'de-en': 0.3053376412276852}, 'BERTScore': {'cs-en': 0.5930617997403792, 'de-en': 0.5358774903472495}, 'WMD': {'cs-en': -0.35835693780579453, 'de-en': -0.2794049110415977}, 'SCM': {'cs-en': 0.24208020921663048, 'de-en': 0.22130149941464233}, 'human': {'cs-en': 1.0, 'de-en': 1.0}}\n",
      "Evaluating lang pair fi-en\n"
     ]
    },
    {
     "name": "stderr",
     "output_type": "stream",
     "text": [
      "100%|██████████| 2536/2536 [05:07<00:00,  8.25it/s]\n",
      "BERTScore: 100%|██████████| 560/560 [06:39<00:00,  1.40it/s]\n",
      "WMD: 100%|██████████| 560/560 [00:01<00:00, 518.80it/s]\n",
      "SCM: 100%|██████████| 560/560 [00:00<00:00, 3349.62it/s]\n",
      "  0%|          | 0/3009 [00:00<?, ?it/s]"
     ]
    },
    {
     "name": "stdout",
     "output_type": "stream",
     "text": [
      "{'BLEU': {'cs-en': 0.00948259297595841, 'de-en': 0.12102257413942359, 'fi-en': 0.0462238748656434}, 'METEOR': {'cs-en': 0.40259685151100627, 'de-en': 0.3053376412276852, 'fi-en': 0.2936207296967382}, 'BERTScore': {'cs-en': 0.5930617997403792, 'de-en': 0.5358774903472495, 'fi-en': 0.5136351336761734}, 'WMD': {'cs-en': -0.35835693780579453, 'de-en': -0.2794049110415977, 'fi-en': -0.24220902849855397}, 'SCM': {'cs-en': 0.24208020921663048, 'de-en': 0.22130149941464233, 'fi-en': 0.13076251346464637}, 'human': {'cs-en': 1.0, 'de-en': 1.0, 'fi-en': 1.0}}\n",
      "Evaluating lang pair ru-en\n"
     ]
    },
    {
     "name": "stderr",
     "output_type": "stream",
     "text": [
      "100%|██████████| 3009/3009 [04:43<00:00, 10.62it/s]\n",
      "BERTScore: 100%|██████████| 560/560 [06:55<00:00,  1.35it/s]\n",
      "WMD: 100%|██████████| 560/560 [00:01<00:00, 481.04it/s]\n",
      "SCM: 100%|██████████| 560/560 [00:00<00:00, 3254.69it/s]"
     ]
    },
    {
     "name": "stdout",
     "output_type": "stream",
     "text": [
      "{'BLEU': {'cs-en': 0.00948259297595841, 'de-en': 0.12102257413942359, 'fi-en': 0.0462238748656434, 'ru-en': 0.1372415117314687}, 'METEOR': {'cs-en': 0.40259685151100627, 'de-en': 0.3053376412276852, 'fi-en': 0.2936207296967382, 'ru-en': 0.40148627797493985}, 'BERTScore': {'cs-en': 0.5930617997403792, 'de-en': 0.5358774903472495, 'fi-en': 0.5136351336761734, 'ru-en': 0.5815337392270435}, 'WMD': {'cs-en': -0.35835693780579453, 'de-en': -0.2794049110415977, 'fi-en': -0.24220902849855397, 'ru-en': -0.317111517221105}, 'SCM': {'cs-en': 0.24208020921663048, 'de-en': 0.22130149941464233, 'fi-en': 0.13076251346464637, 'ru-en': 0.18393322736831474}, 'human': {'cs-en': 1.0, 'de-en': 1.0, 'fi-en': 1.0, 'ru-en': 1.0}}\n"
     ]
    },
    {
     "name": "stderr",
     "output_type": "stream",
     "text": [
      "\n"
     ]
    }
   ],
   "source": [
    "metrics = [\n",
    "    BLEU(),\n",
    "    METEOR(),\n",
    "    BERTScore(tgt_lang=\"en\"),\n",
    "    WMD(tgt_lang=\"en\"),\n",
    "    SCM(tgt_lang=\"en\")\n",
    "]\n",
    "correlations = {m.label: {} for m in metrics}\n",
    "correlations[\"human\"] = {}\n",
    "\n",
    "for lang_pair in [pair for pair in LANGS if pair.split(\"-\")[-1] == \"en\"]:\n",
    "    print(\"Evaluating lang pair %s\" % lang_pair)\n",
    "    evaluator = Evaluator(\"data_dir\", lang_pair, metrics)\n",
    "    report = evaluator.evaluate()\n",
    "\n",
    "    human_judgements = report[\"human\"]\n",
    "    for metric_label, vals in report.items():\n",
    "        correlations[metric_label][lang_pair] = spearmanr(vals, human_judgements).correlation\n",
    "    print(correlations)\n",
    "\n",
    "corrs_df = pd.DataFrame(correlations)"
   ],
   "metadata": {
    "collapsed": false,
    "pycharm": {
     "name": "#%%\n"
    }
   }
  },
  {
   "cell_type": "code",
   "execution_count": 3,
   "outputs": [
    {
     "data": {
      "text/plain": "<AxesSubplot:>"
     },
     "execution_count": 3,
     "metadata": {},
     "output_type": "execute_result"
    },
    {
     "data": {
      "text/plain": "<Figure size 432x288 with 2 Axes>",
      "image/png": "[encoded data removed]"
     },
     "metadata": {
      "needs_background": "light"
     },
     "output_type": "display_data"
    }
   ],
   "source": [
    "import seaborn as sns\n",
    "sns.heatmap(corrs_df, annot=True)"
   ],
   "metadata": {
    "collapsed": false,
    "pycharm": {
     "name": "#%%\n"
    }
   }
  }
 ],
 "metadata": {
  "kernelspec": {
   "display_name": "Python 3",
   "language": "python",
   "name": "python3"
  },
  "language_info": {
   "codemirror_mode": {
    "name": "ipython",
    "version": 2
   },
   "file_extension": ".py",
   "mimetype": "text/x-python",
   "name": "python",
   "nbconvert_exporter": "python",
   "pygments_lexer": "ipython2",
   "version": "2.7.6"
  }
 },
 "nbformat": 4,
 "nbformat_minor": 0
}