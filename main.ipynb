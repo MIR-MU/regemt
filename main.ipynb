{
 "cells": [
  {
   "cell_type": "code",
   "execution_count": 1,
   "outputs": [
    {
     "name": "stderr",
     "output_type": "stream",
     "text": [
      "/Users/xstefan3/miniconda3/envs/ood/lib/python3.8/site-packages/gensim/similarities/__init__.py:15: UserWarning: The gensim.similarities.levenshtein submodule is disabled, because the optional Levenshtein package <https://pypi.org/project/python-Levenshtein/> is unavailable. Install Levenhstein (e.g. `pip install python-Levenshtein`) to suppress this warning.\n",
      "  warnings.warn(msg)\n"
     ]
    }
   ],
   "source": [
    "from scipy.stats import spearmanr\n",
    "\n",
    "from bertscore import BERTScore\n",
    "from conventional_metrics import BLEU, METEOR\n",
    "from scm import SCM\n",
    "from wmd import WMD\n",
    "from common import Evaluator, LANGS\n",
    "import pandas as pd\n"
   ],
   "metadata": {
    "collapsed": false,
    "pycharm": {
     "name": "#%%\n"
    }
   }
  },
  {
   "cell_type": "code",
   "execution_count": null,
   "outputs": [
    {
     "name": "stderr",
     "output_type": "stream",
     "text": [
      "[nltk_data] Downloading package wordnet to\n",
      "[nltk_data]     /Users/xstefan3/nltk_data...\n",
      "[nltk_data]   Package wordnet is already up-to-date!\n",
      "[nltk_data] Downloading package stopwords to\n",
      "[nltk_data]     /Users/xstefan3/nltk_data...\n",
      "[nltk_data]   Package stopwords is already up-to-date!\n",
      "[nltk_data] Downloading package stopwords to\n",
      "[nltk_data]     /Users/xstefan3/nltk_data...\n",
      "[nltk_data]   Package stopwords is already up-to-date!\n",
      "[nltk_data] Downloading package stopwords to\n",
      "[nltk_data]     /Users/xstefan3/nltk_data...\n",
      "[nltk_data]   Package stopwords is already up-to-date!\n"
     ]
    },
    {
     "name": "stdout",
     "output_type": "stream",
     "text": [
      "Evaluating lang pair cs-en\n"
     ]
    },
    {
     "name": "stderr",
     "output_type": "stream",
     "text": [
      "100%|██████████| 2708/2708 [04:17<00:00, 10.50it/s]\n",
      "100%|██████████| 2708/2708 [04:18<00:00, 10.48it/s]\n",
      "WMD: 100%|██████████| 560/560 [00:01<00:00, 490.54it/s]\n",
      "SCM: 100%|██████████| 560/560 [00:00<00:00, 3624.17it/s]\n",
      "SCM: 100%|██████████| 560/560 [00:00<00:00, 2881.23it/s]\n",
      "  0%|          | 0/2687 [00:00<?, ?it/s]"
     ]
    },
    {
     "name": "stdout",
     "output_type": "stream",
     "text": [
      "{'BLEU': {'cs-en': 0.00948259297595841}, 'METEOR': {'cs-en': 0.40259685151100627}, 'WMD': {'cs-en': -0.35835693780579453}, 'SCM': {'cs-en': 0.24208020921663048}, 'SCM_tfidf': {'cs-en': 0.2431252749190664}, 'human': {'cs-en': 1.0}}\n",
      "Evaluating lang pair de-en\n"
     ]
    },
    {
     "name": "stderr",
     "output_type": "stream",
     "text": [
      "100%|██████████| 2687/2687 [04:38<00:00,  9.66it/s]\n",
      "  9%|▉         | 253/2687 [02:50<2:10:26,  3.22s/it] "
     ]
    }
   ],
   "source": [
    "metrics = [\n",
    "    BLEU(),\n",
    "    METEOR(),\n",
    "    # BERTScore(tgt_lang=\"en\"),\n",
    "    WMD(tgt_lang=\"en\"),\n",
    "    SCM(tgt_lang=\"en\", use_tfidf=False),\n",
    "    SCM(tgt_lang=\"en\", use_tfidf=True)\n",
    "]\n",
    "correlations = {m.label: {} for m in metrics}\n",
    "correlations[\"human\"] = {}\n",
    "\n",
    "for lang_pair in [pair for pair in LANGS if pair.split(\"-\")[-1] == \"en\"]:\n",
    "    print(\"Evaluating lang pair %s\" % lang_pair)\n",
    "    evaluator = Evaluator(\"data_dir\", lang_pair, metrics)\n",
    "    report = evaluator.evaluate()\n",
    "\n",
    "    human_judgements = report[\"human\"]\n",
    "    for metric_label, vals in report.items():\n",
    "        correlations[metric_label][lang_pair] = spearmanr(vals, human_judgements).correlation\n",
    "    print(correlations)\n",
    "\n",
    "corrs_df = pd.DataFrame(correlations)"
   ],
   "metadata": {
    "collapsed": false,
    "pycharm": {
     "name": "#%%\n",
     "is_executing": true
    }
   }
  },
  {
   "cell_type": "code",
   "execution_count": null,
   "outputs": [],
   "source": [
    "import seaborn as sns\n",
    "sns.heatmap(corrs_df, annot=True)"
   ],
   "metadata": {
    "collapsed": false,
    "pycharm": {
     "name": "#%%\n",
     "is_executing": true
    }
   }
  }
 ],
 "metadata": {
  "kernelspec": {
   "display_name": "Python 3",
   "language": "python",
   "name": "python3"
  },
  "language_info": {
   "codemirror_mode": {
    "name": "ipython",
    "version": 2
   },
   "file_extension": ".py",
   "mimetype": "text/x-python",
   "name": "python",
   "nbconvert_exporter": "python",
   "pygments_lexer": "ipython2",
   "version": "2.7.6"
  }
 },
 "nbformat": 4,
 "nbformat_minor": 0
}